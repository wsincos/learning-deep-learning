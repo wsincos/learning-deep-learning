{
 "cells": [
  {
   "cell_type": "markdown",
   "metadata": {},
   "source": [
    "VGG Implement"
   ]
  },
  {
   "cell_type": "code",
   "execution_count": 1,
   "metadata": {},
   "outputs": [],
   "source": [
    "import torch\n",
    "import torch.nn as nn\n",
    "import torchvision\n",
    "from torch.utils import data\n",
    "from torchvision import transforms\n",
    "from torch.utils.tensorboard import SummaryWriter"
   ]
  },
  {
   "cell_type": "code",
   "execution_count": 2,
   "metadata": {},
   "outputs": [],
   "source": [
    "writer = SummaryWriter(log_dir=\"./log\")"
   ]
  },
  {
   "cell_type": "code",
   "execution_count": 3,
   "metadata": {},
   "outputs": [
    {
     "name": "stdout",
     "output_type": "stream",
     "text": [
      "VGG_Module(\n",
      "  (model): Sequential(\n",
      "    (0): Sequential(\n",
      "      (0): Conv2d(1, 64, kernel_size=(3, 3), stride=(1, 1), padding=(1, 1))\n",
      "      (1): ReLU()\n",
      "      (2): MaxPool2d(kernel_size=2, stride=2, padding=0, dilation=1, ceil_mode=False)\n",
      "    )\n",
      "    (1): Sequential(\n",
      "      (0): Conv2d(64, 128, kernel_size=(3, 3), stride=(1, 1), padding=(1, 1))\n",
      "      (1): ReLU()\n",
      "      (2): MaxPool2d(kernel_size=2, stride=2, padding=0, dilation=1, ceil_mode=False)\n",
      "    )\n",
      "    (2): Sequential(\n",
      "      (0): Conv2d(128, 256, kernel_size=(3, 3), stride=(1, 1), padding=(1, 1))\n",
      "      (1): ReLU()\n",
      "      (2): Conv2d(256, 256, kernel_size=(3, 3), stride=(1, 1), padding=(1, 1))\n",
      "      (3): ReLU()\n",
      "      (4): MaxPool2d(kernel_size=2, stride=2, padding=0, dilation=1, ceil_mode=False)\n",
      "    )\n",
      "    (3): Sequential(\n",
      "      (0): Conv2d(256, 512, kernel_size=(3, 3), stride=(1, 1), padding=(1, 1))\n",
      "      (1): ReLU()\n",
      "      (2): Conv2d(512, 512, kernel_size=(3, 3), stride=(1, 1), padding=(1, 1))\n",
      "      (3): ReLU()\n",
      "      (4): MaxPool2d(kernel_size=2, stride=2, padding=0, dilation=1, ceil_mode=False)\n",
      "    )\n",
      "    (4): Sequential(\n",
      "      (0): Conv2d(512, 512, kernel_size=(3, 3), stride=(1, 1), padding=(1, 1))\n",
      "      (1): ReLU()\n",
      "      (2): Conv2d(512, 512, kernel_size=(3, 3), stride=(1, 1), padding=(1, 1))\n",
      "      (3): ReLU()\n",
      "      (4): MaxPool2d(kernel_size=2, stride=2, padding=0, dilation=1, ceil_mode=False)\n",
      "    )\n",
      "    (5): Flatten(start_dim=1, end_dim=-1)\n",
      "    (6): Linear(in_features=25088, out_features=4096, bias=True)\n",
      "    (7): ReLU()\n",
      "    (8): Dropout(p=0.5, inplace=False)\n",
      "    (9): Linear(in_features=4096, out_features=4096, bias=True)\n",
      "    (10): ReLU()\n",
      "    (11): Dropout(p=0.5, inplace=False)\n",
      "    (12): Linear(in_features=4096, out_features=4096, bias=True)\n",
      "    (13): ReLU()\n",
      "    (14): Dropout(p=0.5, inplace=False)\n",
      "    (15): Linear(in_features=4096, out_features=10, bias=True)\n",
      "  )\n",
      ")\n"
     ]
    }
   ],
   "source": [
    "class VGG_Module(nn.Module):\n",
    "    def __init__(self, model_arch, in_dim=1):\n",
    "        super().__init__()\n",
    "        self.layer = []\n",
    "        for (num, out_dim) in model_arch:\n",
    "            self.layer.append(self.vgg_block(num, in_dim, out_dim))\n",
    "            in_dim = out_dim\n",
    "        self.model = nn.Sequential(*self.layer,\n",
    "                                   nn.Flatten(),\n",
    "                                   nn.Linear(out_dim * 7 * 7, 4096), nn.ReLU(), nn.Dropout(0.5),\n",
    "                                   nn.Linear(4096, 4096), nn.ReLU(), nn.Dropout(0.5),\n",
    "                                   nn.Linear(4096, 4096), nn.ReLU(), nn.Dropout(0.5),\n",
    "                                   nn.Linear(4096, 10))\n",
    "    def vgg_block(self, num, in_dim, out_dim):\n",
    "        layer = []\n",
    "\n",
    "        for i in range(num):\n",
    "            layer.append(nn.Conv2d(in_dim, out_dim, kernel_size=3, padding=1))\n",
    "            layer.append(nn.ReLU())\n",
    "            in_dim = out_dim\n",
    "        layer.append(nn.MaxPool2d(kernel_size=2, stride=2))\n",
    "        return nn.Sequential(*layer)\n",
    "            \n",
    "    def forward(self, x):\n",
    "        return self.model(x)\n",
    "    \n",
    "conv_arch = ((1, 64), (1, 128), (2, 256), (2, 512), (2, 512))\n",
    "model = VGG_Module(conv_arch)\n",
    "\n",
    "print(model)"
   ]
  },
  {
   "cell_type": "code",
   "execution_count": 4,
   "metadata": {},
   "outputs": [],
   "source": [
    "from tqdm import tqdm\n",
    "    \n",
    "def train(model, lr, epochs, train_loader, test_loader, writer):\n",
    "    device = torch.device(\"cuda\" if torch.cuda.is_available() else \"cpu\")\n",
    "    model = model.to(device)\n",
    "    global_step = 0\n",
    "    test_step = 0\n",
    "    optimer = torch.optim.Adam(model.parameters(), lr=lr)\n",
    "    criterion = torch.nn.CrossEntropyLoss()\n",
    "    for epoch in range(epochs):\n",
    "        print(f\"epoch: {epoch+1}/{epochs}\")\n",
    "        train_right = 0\n",
    "        test_right = 0\n",
    "        train_num = 0\n",
    "        test_num = 0\n",
    "        model.train()\n",
    "        for X, y in tqdm(train_loader):\n",
    "            X, y = X.to(device), y.to(device)\n",
    "            y_hat = model(X)\n",
    "            l = criterion(y_hat, y)\n",
    "            optimer.zero_grad()\n",
    "            l.backward()\n",
    "            optimer.step()\n",
    "            train_right += (y==y_hat.argmax(dim=1)).sum().item()\n",
    "            train_num += len(y)\n",
    "\n",
    "            writer.add_scalar(\"loss/train\", l.item(), global_step)\n",
    "            global_step += 1\n",
    "            \n",
    "\n",
    "        with torch.no_grad():\n",
    "            model.eval()\n",
    "            for X, y in test_loader:\n",
    "                X, y = X.to(device), y.to(device)\n",
    "                y_hat = model(X)\n",
    "                l = criterion(y_hat, y)\n",
    "                test_right += (y==y_hat.argmax(dim=1)).sum().item()\n",
    "                test_num += len(y)\n",
    "\n",
    "                writer.add_scalar(\"loss/test\", l.item(), test_step)\n",
    "                test_step += 1\n",
    "        print(f\"accuracy/train: {train_right/train_num}\")\n",
    "        print(f\"aaccuracy/test: {test_right/test_num}\")\n",
    "        writer.add_scalar(\"accuracy/train\", train_right/train_num, epoch)\n",
    "        writer.add_scalar(\"accuracy/test\", test_right/test_num, epoch)"
   ]
  },
  {
   "cell_type": "code",
   "execution_count": 5,
   "metadata": {},
   "outputs": [
    {
     "name": "stdout",
     "output_type": "stream",
     "text": [
      "epoch: 1/10\n"
     ]
    },
    {
     "name": "stderr",
     "output_type": "stream",
     "text": [
      "100%|██████████| 235/235 [02:14<00:00,  1.75it/s]\n"
     ]
    },
    {
     "name": "stdout",
     "output_type": "stream",
     "text": [
      "accuracy/train: 0.6038\n",
      "aaccuracy/test: 0.8415\n",
      "epoch: 2/10\n"
     ]
    },
    {
     "name": "stderr",
     "output_type": "stream",
     "text": [
      "100%|██████████| 235/235 [01:58<00:00,  1.98it/s]\n"
     ]
    },
    {
     "name": "stdout",
     "output_type": "stream",
     "text": [
      "accuracy/train: 0.8700833333333333\n",
      "aaccuracy/test: 0.8735\n",
      "epoch: 3/10\n"
     ]
    },
    {
     "name": "stderr",
     "output_type": "stream",
     "text": [
      "100%|██████████| 235/235 [01:57<00:00,  1.99it/s]\n"
     ]
    },
    {
     "name": "stdout",
     "output_type": "stream",
     "text": [
      "accuracy/train: 0.8945333333333333\n",
      "aaccuracy/test: 0.899\n",
      "epoch: 4/10\n"
     ]
    },
    {
     "name": "stderr",
     "output_type": "stream",
     "text": [
      "100%|██████████| 235/235 [01:56<00:00,  2.01it/s]\n"
     ]
    },
    {
     "name": "stdout",
     "output_type": "stream",
     "text": [
      "accuracy/train: 0.9087\n",
      "aaccuracy/test: 0.8996\n",
      "epoch: 5/10\n"
     ]
    },
    {
     "name": "stderr",
     "output_type": "stream",
     "text": [
      "100%|██████████| 235/235 [01:54<00:00,  2.05it/s]\n"
     ]
    },
    {
     "name": "stdout",
     "output_type": "stream",
     "text": [
      "accuracy/train: 0.9176\n",
      "aaccuracy/test: 0.9121\n",
      "epoch: 6/10\n"
     ]
    },
    {
     "name": "stderr",
     "output_type": "stream",
     "text": [
      "100%|██████████| 235/235 [01:56<00:00,  2.02it/s]\n"
     ]
    },
    {
     "name": "stdout",
     "output_type": "stream",
     "text": [
      "accuracy/train: 0.92755\n",
      "aaccuracy/test: 0.922\n",
      "epoch: 7/10\n"
     ]
    },
    {
     "name": "stderr",
     "output_type": "stream",
     "text": [
      "100%|██████████| 235/235 [01:58<00:00,  1.98it/s]\n"
     ]
    },
    {
     "name": "stdout",
     "output_type": "stream",
     "text": [
      "accuracy/train: 0.9304\n",
      "aaccuracy/test: 0.9218\n",
      "epoch: 8/10\n"
     ]
    },
    {
     "name": "stderr",
     "output_type": "stream",
     "text": [
      "100%|██████████| 235/235 [01:57<00:00,  2.00it/s]\n"
     ]
    },
    {
     "name": "stdout",
     "output_type": "stream",
     "text": [
      "accuracy/train: 0.9392666666666667\n",
      "aaccuracy/test: 0.9243\n",
      "epoch: 9/10\n"
     ]
    },
    {
     "name": "stderr",
     "output_type": "stream",
     "text": [
      "100%|██████████| 235/235 [01:56<00:00,  2.01it/s]\n"
     ]
    },
    {
     "name": "stdout",
     "output_type": "stream",
     "text": [
      "accuracy/train: 0.9428833333333333\n",
      "aaccuracy/test: 0.9278\n",
      "epoch: 10/10\n"
     ]
    },
    {
     "name": "stderr",
     "output_type": "stream",
     "text": [
      "100%|██████████| 235/235 [01:54<00:00,  2.05it/s]\n"
     ]
    },
    {
     "name": "stdout",
     "output_type": "stream",
     "text": [
      "accuracy/train: 0.9466166666666667\n",
      "aaccuracy/test: 0.9166\n"
     ]
    }
   ],
   "source": [
    "import os\n",
    "os.environ[\"CUDA_VISIBLE_DEVICES\"] = \"3\"\n",
    "\n",
    "data_dir = \"./dataset\"\n",
    "trans = transforms.Compose([\n",
    "    transforms.Resize(224),\n",
    "    transforms.ToTensor()\n",
    "])\n",
    "train_data = torchvision.datasets.FashionMNIST(data_dir, train=True, transform=trans, download=False)\n",
    "test_data = torchvision.datasets.FashionMNIST(data_dir, train=False, transform=trans, download=False)\n",
    "\n",
    "lr = 0.001\n",
    "batch_size = 256\n",
    "train_loader = data.DataLoader(train_data, batch_size=batch_size, shuffle=True)\n",
    "test_loader = data.DataLoader(test_data, batch_size=batch_size, shuffle=True)\n",
    "\n",
    "train(model, lr=lr, epochs=10, train_loader=train_loader, test_loader=test_loader, writer=writer)\n",
    "writer.close()"
   ]
  },
  {
   "cell_type": "code",
   "execution_count": 6,
   "metadata": {},
   "outputs": [
    {
     "name": "stdout",
     "output_type": "stream",
     "text": [
      "torch.Size([256, 1, 224, 224])\n"
     ]
    }
   ],
   "source": [
    "X, y = next(iter(train_loader))\n",
    "print(X.shape)"
   ]
  },
  {
   "cell_type": "code",
   "execution_count": null,
   "metadata": {},
   "outputs": [],
   "source": [
    "# torch.save(model.state_dict(), \"./model.ckpt\")"
   ]
  },
  {
   "cell_type": "code",
   "execution_count": 8,
   "metadata": {},
   "outputs": [
    {
     "name": "stdout",
     "output_type": "stream",
     "text": [
      "0.9166\n"
     ]
    }
   ],
   "source": [
    "device = torch.device(\"cuda\" if torch.cuda.is_available() else \"cpu\")\n",
    "criterion = torch.nn.CrossEntropyLoss()\n",
    "with torch.no_grad():\n",
    "    test_right = 0\n",
    "    test_all = 0\n",
    "    model.eval()\n",
    "    for X, y in test_loader:\n",
    "        X, y = X.to(device), y.to(device)\n",
    "        y_hat = model(X)\n",
    "        l = criterion(y_hat, y)\n",
    "        test_right += (y==y_hat.argmax(dim=1)).sum().item()\n",
    "        test_all += len(y)\n",
    "    print(test_right/test_all)\n",
    "        "
   ]
  },
  {
   "cell_type": "code",
   "execution_count": null,
   "metadata": {},
   "outputs": [],
   "source": []
  }
 ],
 "metadata": {
  "kernelspec": {
   "display_name": "autodock",
   "language": "python",
   "name": "python3"
  },
  "language_info": {
   "codemirror_mode": {
    "name": "ipython",
    "version": 3
   },
   "file_extension": ".py",
   "mimetype": "text/x-python",
   "name": "python",
   "nbconvert_exporter": "python",
   "pygments_lexer": "ipython3",
   "version": "3.12.9"
  }
 },
 "nbformat": 4,
 "nbformat_minor": 2
}
